{
 "cells": [
  {
   "cell_type": "code",
   "execution_count": null,
   "metadata": {},
   "outputs": [],
   "source": [
    "import multiprocessing as mp\n",
    "\n",
    "import matplotlib.pyplot as plt\n",
    "import mkl\n",
    "import numpy as np\n",
    "import pandas as pd\n",
    "from sklearn.model_selection import train_test_split\n",
    "from tqdm.notebook import tqdm\n",
    "\n",
    "import amicrt as am\n",
    "\n",
    "%config InlineBackend.figure_format = 'retina'\n",
    "%matplotlib inline"
   ]
  },
  {
   "cell_type": "code",
   "execution_count": null,
   "metadata": {},
   "outputs": [],
   "source": [
    "# set numpy threads to 1 so we can use multiprocessing\n",
    "mkl.set_num_threads(1)"
   ]
  },
  {
   "cell_type": "code",
   "execution_count": null,
   "metadata": {},
   "outputs": [],
   "source": [
    "# sample nonlinear response dataset\n",
    "\n",
    "def orange(N, D, C=None, n_rel=4):\n",
    "    assert D >= n_rel, 'D must be >= n_rel'\n",
    "    if C is None:\n",
    "        C = np.eye(D)\n",
    "    X = sampleX(N, D, C)\n",
    "\n",
    "    if n_rel == 0:\n",
    "        Y = np.random.randint(0, 2, N)\n",
    "    else:\n",
    "        Y = (np.exp(np.sum(X[:, :n_rel]**2, axis=-1) - n_rel) > 0.5).astype(int)\n",
    "\n",
    "    trueEffects = np.zeros(D)\n",
    "    trueEffects[:n_rel] = 1\n",
    "\n",
    "    return X, Y, trueEffects\n",
    "\n",
    "def sampleX(N, D, C):\n",
    "    return np.random.multivariate_normal(mean=np.zeros(D), cov=C, size=N)"
   ]
  },
  {
   "cell_type": "code",
   "execution_count": null,
   "metadata": {},
   "outputs": [],
   "source": [
    "# create multi-core pool, use number of CPUs available\n",
    "pool = mp.Pool(6)"
   ]
  },
  {
   "cell_type": "code",
   "execution_count": null,
   "metadata": {},
   "outputs": [],
   "source": [
    "# dimensionality of data\n",
    "d = 10\n",
    "# generate data\n",
    "x, y, te = orange(2000, d, n_rel=4) # First 4 features are relevant, rest are irrelevant\n",
    "# split into training and test sets\n",
    "xTr, xTe, yTr, yTe = train_test_split(x, y)"
   ]
  },
  {
   "cell_type": "code",
   "execution_count": null,
   "metadata": {},
   "outputs": [],
   "source": [
    "# Two different options for AMI-CRT\n",
    "crtOptions = {\n",
    "    'ami-crt'  : (am.statistics.ModelBasedStatistic, dict(fn=am.utils.monteCarloEntropy), '>', True),\n",
    "    'ami-hrt'  : (am.statistics.ModelBasedStatistic, dict(fn=am.utils.monteCarloEntropy), '>', False)\n",
    "}"
   ]
  },
  {
   "cell_type": "markdown",
   "metadata": {},
   "source": [
    "# AMI-CRT and AMI-HRT"
   ]
  },
  {
   "cell_type": "code",
   "execution_count": null,
   "metadata": {
    "scrolled": true
   },
   "outputs": [],
   "source": [
    "# initialize results dictionary\n",
    "results = dict()\n",
    "\n",
    "# iterate over crt options\n",
    "for crtOption in crtOptions:\n",
    "    statClass, statArgs, ordering, refitStatistic = crtOptions[crtOption]\n",
    "\n",
    "    # create a new AMI-CRT\n",
    "    crt = am.CRT(am.conditionals.CompleteConditional,\n",
    "              dict(),\n",
    "              statClass,\n",
    "              statArgs,\n",
    "              ordering=ordering,\n",
    "              M=50, # number of null models to fit\n",
    "              refitStatistic=refitStatistic, tqdm=tqdm, pool=pool, conservative=True)\n",
    "    \n",
    "    # which features to test\n",
    "    testInds = np.arange(d)\n",
    "    \n",
    "    # dictionary to indicate which features are continuous (False)\n",
    "    # and which are discrete (True)\n",
    "    discInd = {j:False for j in testInds}\n",
    "    \n",
    "    # initialize AMI-CRT using training data\n",
    "    crt.initialize(xTr, yTr, is_discrete=discInd, test_inds=testInds)\n",
    "    \n",
    "    # get p-values\n",
    "    pvalues = crt.fit_evaluate(xTr, yTr, xTe, yTe)\n",
    "    \n",
    "    # save results\n",
    "    results[crtOption] = pvalues"
   ]
  },
  {
   "cell_type": "markdown",
   "metadata": {},
   "source": [
    "# FAST-AMI-CRT"
   ]
  },
  {
   "cell_type": "code",
   "execution_count": null,
   "metadata": {
    "scrolled": true
   },
   "outputs": [],
   "source": [
    "statClass, statArgs, ordering, refitStatistic = crtOptions['ami-crt']\n",
    "\n",
    "# create a new Fast-CRT\n",
    "fast_crt = am.FastCRT(am.conditionals.CompleteConditional,\n",
    "                   dict(),\n",
    "                   statClass,\n",
    "                   statArgs,\n",
    "                   ordering=ordering,\n",
    "                   refitStatistic=refitStatistic,\n",
    "                   tqdm=tqdm,\n",
    "                   pool=pool, conservative=False)\n",
    "\n",
    "# boolean array of same dimensionality as data\n",
    "# indicates which features are continuous (False) and which are discrete (True)\n",
    "discInd = np.zeros(d).astype(bool)\n",
    "\n",
    "# initialize AMI-CRT using training data\n",
    "fast_crt.initialize(xTr, yTr, is_discrete=discInd)\n",
    "results['fast-ami-crt'] = fast_crt.fit_evaluate(xTr, yTr, xTe, yTe)"
   ]
  },
  {
   "cell_type": "code",
   "execution_count": null,
   "metadata": {},
   "outputs": [],
   "source": [
    "# plot results\n",
    "pd.DataFrame(results).plot.bar()\n",
    "plt.ylabel('$p$-value')\n",
    "plt.xlabel('Feature #')\n",
    "plt.title('$p$-values for each feature')"
   ]
  },
  {
   "cell_type": "code",
   "execution_count": null,
   "metadata": {},
   "outputs": [],
   "source": [
    "pool.close()"
   ]
  },
  {
   "cell_type": "code",
   "execution_count": null,
   "metadata": {},
   "outputs": [],
   "source": []
  },
  {
   "cell_type": "code",
   "execution_count": null,
   "metadata": {},
   "outputs": [],
   "source": []
  }
 ],
 "metadata": {
  "kernelspec": {
   "display_name": "Python 3",
   "language": "python",
   "name": "python3"
  },
  "language_info": {
   "codemirror_mode": {
    "name": "ipython",
    "version": 3
   },
   "file_extension": ".py",
   "mimetype": "text/x-python",
   "name": "python",
   "nbconvert_exporter": "python",
   "pygments_lexer": "ipython3",
   "version": "3.7.6"
  }
 },
 "nbformat": 4,
 "nbformat_minor": 2
}
